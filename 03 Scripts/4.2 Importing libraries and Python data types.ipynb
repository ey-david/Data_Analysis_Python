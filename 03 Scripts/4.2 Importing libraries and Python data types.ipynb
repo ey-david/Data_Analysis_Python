{
 "cells": [
  {
   "cell_type": "markdown",
   "id": "ea22fe6e",
   "metadata": {},
   "source": [
    "# 01. Import Libraries"
   ]
  },
  {
   "cell_type": "code",
   "execution_count": 3,
   "id": "ae09a1b4",
   "metadata": {},
   "outputs": [],
   "source": [
    "#imports the following libraries\n",
    "import pandas as pd\n",
    "import numpy as np\n",
    "import os"
   ]
  },
  {
   "cell_type": "markdown",
   "id": "12078bc1",
   "metadata": {},
   "source": [
    "# 02. Python Data Types"
   ]
  },
  {
   "cell_type": "markdown",
   "id": "6ff13544",
   "metadata": {},
   "source": [
    "## Code 3 different ways of reaching a result of 100 by adding or subtracting numeric variables."
   ]
  },
  {
   "cell_type": "code",
   "execution_count": 4,
   "id": "e40195dd",
   "metadata": {},
   "outputs": [
    {
     "data": {
      "text/plain": [
       "100"
      ]
     },
     "execution_count": 4,
     "metadata": {},
     "output_type": "execute_result"
    }
   ],
   "source": [
    "a = 25\n",
    "a * 4"
   ]
  },
  {
   "cell_type": "code",
   "execution_count": 5,
   "id": "ac7c0828",
   "metadata": {},
   "outputs": [
    {
     "data": {
      "text/plain": [
       "100.0"
      ]
     },
     "execution_count": 5,
     "metadata": {},
     "output_type": "execute_result"
    }
   ],
   "source": [
    "b = 9690\n",
    "b / 96.9"
   ]
  },
  {
   "cell_type": "code",
   "execution_count": 7,
   "id": "6b944c65",
   "metadata": {},
   "outputs": [
    {
     "data": {
      "text/plain": [
       "100"
      ]
     },
     "execution_count": 7,
     "metadata": {},
     "output_type": "execute_result"
    }
   ],
   "source": [
    "c = 56\n",
    "d = 44\n",
    "c + d"
   ]
  },
  {
   "cell_type": "code",
   "execution_count": 13,
   "id": "b9e70ff7",
   "metadata": {},
   "outputs": [
    {
     "data": {
      "text/plain": [
       "100.0"
      ]
     },
     "execution_count": 13,
     "metadata": {},
     "output_type": "execute_result"
    }
   ],
   "source": [
    " # Ok, one more way\n",
    "e = 4\n",
    "((e * 2.5) + 10) * 5"
   ]
  },
  {
   "cell_type": "markdown",
   "id": "6a7ce237",
   "metadata": {},
   "source": [
    "## Code 2 floating-point variables and divide them by each other."
   ]
  },
  {
   "cell_type": "code",
   "execution_count": 14,
   "id": "d5a73a6d",
   "metadata": {},
   "outputs": [
    {
     "data": {
      "text/plain": [
       "1776705232.7706578"
      ]
     },
     "execution_count": 14,
     "metadata": {},
     "output_type": "execute_result"
    }
   ],
   "source": [
    "f = 56282989.9884539345793845\n",
    "g = 99998282828464643.1\n",
    "g / f"
   ]
  },
  {
   "cell_type": "markdown",
   "id": "83c5d815",
   "metadata": {},
   "source": [
    "## Construct a short word made of separate strings (you’ll need to concatenate some strings!)."
   ]
  },
  {
   "cell_type": "code",
   "execution_count": 15,
   "id": "e04fd366",
   "metadata": {},
   "outputs": [
    {
     "data": {
      "text/plain": [
       "'cardio'"
      ]
     },
     "execution_count": 15,
     "metadata": {},
     "output_type": "execute_result"
    }
   ],
   "source": [
    "z = 'c'\n",
    "y = 'a'\n",
    "x = 'r'\n",
    "v = 'd'\n",
    "u = 'i'\n",
    "t = 'o'\n",
    "z + y + x + v + u + t"
   ]
  },
  {
   "cell_type": "markdown",
   "id": "32effb23",
   "metadata": {},
   "source": [
    "## Construct 2 short sentences made of separate strings."
   ]
  },
  {
   "cell_type": "code",
   "execution_count": 20,
   "id": "08dad4f4",
   "metadata": {},
   "outputs": [
    {
     "data": {
      "text/plain": [
       "'if you want to ride a rollercoaster, who the hell cares?'"
      ]
     },
     "execution_count": 20,
     "metadata": {},
     "output_type": "execute_result"
    }
   ],
   "source": [
    "g = 'if you want to'\n",
    "h = 'feed the ducks'\n",
    "i = ','\n",
    "j = ' '\n",
    "k = 'ride a rollercoaster'\n",
    "l = 'do not, it is dangerous'\n",
    "m = 'who the hell cares'\n",
    "n = '.'\n",
    "o = '?'\n",
    "g + j + k + i + j + m + o"
   ]
  },
  {
   "cell_type": "code",
   "execution_count": 23,
   "id": "50a1a785",
   "metadata": {},
   "outputs": [
    {
     "data": {
      "text/plain": [
       "'if you want to feed the ducks, do not, it is dangerous.'"
      ]
     },
     "execution_count": 23,
     "metadata": {},
     "output_type": "execute_result"
    }
   ],
   "source": [
    "g + j + h + i + j + l + n"
   ]
  },
  {
   "cell_type": "code",
   "execution_count": 24,
   "id": "e285cca8",
   "metadata": {},
   "outputs": [
    {
     "data": {
      "text/plain": [
       "'feed the ducks, ride a rollercoaster, who the hell cares?'"
      ]
     },
     "execution_count": 24,
     "metadata": {},
     "output_type": "execute_result"
    }
   ],
   "source": [
    "# ok, one more for giggles\n",
    "h + i + j + k + i + j + m + o"
   ]
  },
  {
   "cell_type": "markdown",
   "id": "eb08c202",
   "metadata": {},
   "source": [
    "## Bonus"
   ]
  },
  {
   "cell_type": "markdown",
   "id": "f277a1b2",
   "metadata": {},
   "source": [
    "## At the bottom of your file, include a command that makes a string appear 100 times."
   ]
  },
  {
   "cell_type": "code",
   "execution_count": 27,
   "id": "3b97d944",
   "metadata": {},
   "outputs": [
    {
     "data": {
      "text/plain": [
       "'feed the ducks, ride a rollercoaster, who the hell cares? feed the ducks, ride a rollercoaster, who the hell cares? feed the ducks, ride a rollercoaster, who the hell cares? feed the ducks, ride a rollercoaster, who the hell cares? feed the ducks, ride a rollercoaster, who the hell cares? feed the ducks, ride a rollercoaster, who the hell cares? feed the ducks, ride a rollercoaster, who the hell cares? feed the ducks, ride a rollercoaster, who the hell cares? feed the ducks, ride a rollercoaster, who the hell cares? feed the ducks, ride a rollercoaster, who the hell cares? feed the ducks, ride a rollercoaster, who the hell cares? feed the ducks, ride a rollercoaster, who the hell cares? feed the ducks, ride a rollercoaster, who the hell cares? feed the ducks, ride a rollercoaster, who the hell cares? feed the ducks, ride a rollercoaster, who the hell cares? feed the ducks, ride a rollercoaster, who the hell cares? feed the ducks, ride a rollercoaster, who the hell cares? feed the ducks, ride a rollercoaster, who the hell cares? feed the ducks, ride a rollercoaster, who the hell cares? feed the ducks, ride a rollercoaster, who the hell cares? feed the ducks, ride a rollercoaster, who the hell cares? feed the ducks, ride a rollercoaster, who the hell cares? feed the ducks, ride a rollercoaster, who the hell cares? feed the ducks, ride a rollercoaster, who the hell cares? feed the ducks, ride a rollercoaster, who the hell cares? feed the ducks, ride a rollercoaster, who the hell cares? feed the ducks, ride a rollercoaster, who the hell cares? feed the ducks, ride a rollercoaster, who the hell cares? feed the ducks, ride a rollercoaster, who the hell cares? feed the ducks, ride a rollercoaster, who the hell cares? feed the ducks, ride a rollercoaster, who the hell cares? feed the ducks, ride a rollercoaster, who the hell cares? feed the ducks, ride a rollercoaster, who the hell cares? feed the ducks, ride a rollercoaster, who the hell cares? feed the ducks, ride a rollercoaster, who the hell cares? feed the ducks, ride a rollercoaster, who the hell cares? feed the ducks, ride a rollercoaster, who the hell cares? feed the ducks, ride a rollercoaster, who the hell cares? feed the ducks, ride a rollercoaster, who the hell cares? feed the ducks, ride a rollercoaster, who the hell cares? feed the ducks, ride a rollercoaster, who the hell cares? feed the ducks, ride a rollercoaster, who the hell cares? feed the ducks, ride a rollercoaster, who the hell cares? feed the ducks, ride a rollercoaster, who the hell cares? feed the ducks, ride a rollercoaster, who the hell cares? feed the ducks, ride a rollercoaster, who the hell cares? feed the ducks, ride a rollercoaster, who the hell cares? feed the ducks, ride a rollercoaster, who the hell cares? feed the ducks, ride a rollercoaster, who the hell cares? feed the ducks, ride a rollercoaster, who the hell cares? feed the ducks, ride a rollercoaster, who the hell cares? feed the ducks, ride a rollercoaster, who the hell cares? feed the ducks, ride a rollercoaster, who the hell cares? feed the ducks, ride a rollercoaster, who the hell cares? feed the ducks, ride a rollercoaster, who the hell cares? feed the ducks, ride a rollercoaster, who the hell cares? feed the ducks, ride a rollercoaster, who the hell cares? feed the ducks, ride a rollercoaster, who the hell cares? feed the ducks, ride a rollercoaster, who the hell cares? feed the ducks, ride a rollercoaster, who the hell cares? feed the ducks, ride a rollercoaster, who the hell cares? feed the ducks, ride a rollercoaster, who the hell cares? feed the ducks, ride a rollercoaster, who the hell cares? feed the ducks, ride a rollercoaster, who the hell cares? feed the ducks, ride a rollercoaster, who the hell cares? feed the ducks, ride a rollercoaster, who the hell cares? feed the ducks, ride a rollercoaster, who the hell cares? feed the ducks, ride a rollercoaster, who the hell cares? feed the ducks, ride a rollercoaster, who the hell cares? feed the ducks, ride a rollercoaster, who the hell cares? feed the ducks, ride a rollercoaster, who the hell cares? feed the ducks, ride a rollercoaster, who the hell cares? feed the ducks, ride a rollercoaster, who the hell cares? feed the ducks, ride a rollercoaster, who the hell cares? feed the ducks, ride a rollercoaster, who the hell cares? feed the ducks, ride a rollercoaster, who the hell cares? feed the ducks, ride a rollercoaster, who the hell cares? feed the ducks, ride a rollercoaster, who the hell cares? feed the ducks, ride a rollercoaster, who the hell cares? feed the ducks, ride a rollercoaster, who the hell cares? feed the ducks, ride a rollercoaster, who the hell cares? feed the ducks, ride a rollercoaster, who the hell cares? feed the ducks, ride a rollercoaster, who the hell cares? feed the ducks, ride a rollercoaster, who the hell cares? feed the ducks, ride a rollercoaster, who the hell cares? feed the ducks, ride a rollercoaster, who the hell cares? feed the ducks, ride a rollercoaster, who the hell cares? feed the ducks, ride a rollercoaster, who the hell cares? feed the ducks, ride a rollercoaster, who the hell cares? feed the ducks, ride a rollercoaster, who the hell cares? feed the ducks, ride a rollercoaster, who the hell cares? feed the ducks, ride a rollercoaster, who the hell cares? feed the ducks, ride a rollercoaster, who the hell cares? feed the ducks, ride a rollercoaster, who the hell cares? feed the ducks, ride a rollercoaster, who the hell cares? feed the ducks, ride a rollercoaster, who the hell cares? feed the ducks, ride a rollercoaster, who the hell cares? feed the ducks, ride a rollercoaster, who the hell cares? feed the ducks, ride a rollercoaster, who the hell cares? feed the ducks, ride a rollercoaster, who the hell cares? '"
      ]
     },
     "execution_count": 27,
     "metadata": {},
     "output_type": "execute_result"
    }
   ],
   "source": [
    "(h + i + j + k + i + j + m + o + j) * 100"
   ]
  },
  {
   "cell_type": "code",
   "execution_count": null,
   "id": "0f09db43",
   "metadata": {},
   "outputs": [],
   "source": []
  }
 ],
 "metadata": {
  "kernelspec": {
   "display_name": "Python 3 (ipykernel)",
   "language": "python",
   "name": "python3"
  },
  "language_info": {
   "codemirror_mode": {
    "name": "ipython",
    "version": 3
   },
   "file_extension": ".py",
   "mimetype": "text/x-python",
   "name": "python",
   "nbconvert_exporter": "python",
   "pygments_lexer": "ipython3",
   "version": "3.10.11"
  }
 },
 "nbformat": 4,
 "nbformat_minor": 5
}
